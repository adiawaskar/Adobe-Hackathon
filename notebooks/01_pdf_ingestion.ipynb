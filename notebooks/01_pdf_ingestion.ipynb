{
 "cells": [
  {
   "cell_type": "code",
   "execution_count": null,
   "id": "b86fc171",
   "metadata": {},
   "outputs": [],
   "source": [
    "from pathlib import Path\n",
    "import os\n",
    "import sys\n",
    "import fitz  # PyMuPDF\n",
    "import json\n",
    "import pytesseract\n",
    "import easyocr\n",
    "import numpy as np\n",
    "from pdf2image import convert_from_path\n",
    "from PIL import Image\n",
    "import re  # 📌 Add this if not already imported\n",
    "\n",
    "# Utility to remove invisible Unicode directional formatting characters\n",
    "def clean_text(text):\n",
    "    return re.sub(r'[\\u202a-\\u202e]', '', text)\n",
    "\n",
    "\n",
    "# Define project root and make sure it's in sys.path\n",
    "PROJECT_ROOT = Path(__file__).resolve().parent.parent\n",
    "if str(PROJECT_ROOT) not in sys.path:\n",
    "    sys.path.insert(0, str(PROJECT_ROOT))\n",
    "\n",
    "# Import language settings\n",
    "from config import LANGUAGES\n",
    "\n",
    "# Tesseract path for Windows\n",
    "if os.name == 'nt':\n",
    "    pytesseract.pytesseract.tesseract_cmd = r\"C:\\Program Files\\Tesseract-OCR\\tesseract.exe\"\n",
    "\n",
    "# Determine PDF path based on whether it's a script or notebook\n",
    "if \"__file__\" in globals():\n",
    "    pdf_arg = sys.argv[1] if len(sys.argv) > 1 else \"sample.pdf\"\n",
    "    PDF_PATH = PROJECT_ROOT / \"input\" / pdf_arg\n",
    "else:\n",
    "    # Likely inside Jupyter\n",
    "    PDF_PATH = Path().resolve() / \"input\" / \"sample.pdf\"\n",
    "\n",
    "# Define output path\n",
    "OUTPUT_PATH = PROJECT_ROOT / \"data\" / \"processed\" / \"pdf_text_blocks.json\"\n",
    "OUTPUT_PATH.parent.mkdir(parents=True, exist_ok=True)\n"
   ]
  },
  {
   "cell_type": "code",
   "execution_count": null,
   "id": "db9e292d",
   "metadata": {},
   "outputs": [],
   "source": [
    "def extract_text_blocks(pdf_path: Path):\n",
    "    doc = fitz.open(pdf_path)\n",
    "    blocks = []\n",
    "\n",
    "    for page_num, page in enumerate(doc, start=1):\n",
    "        for block in page.get_text(\"dict\")[\"blocks\"]:\n",
    "            for line in block.get(\"lines\", []):\n",
    "                spans = line.get(\"spans\", [])\n",
    "                if not spans:\n",
    "                    continue\n",
    "                text = clean_text(\" \".join([span[\"text\"] for span in spans]).strip())\n",
    "                if not text:\n",
    "                    continue\n",
    "                font_sizes = list(set([round(span[\"size\"], 1) for span in spans]))\n",
    "                font_flags = list(set([span[\"flags\"] for span in spans]))\n",
    "                blocks.append({\n",
    "                    \"page\": page_num,\n",
    "                    \"text\": text,\n",
    "                    \"font_sizes\": font_sizes,\n",
    "                    \"font_flags\": font_flags,\n",
    "                    \"bbox\": block.get(\"bbox\")\n",
    "                })\n",
    "    print(f\"Extracted {len(blocks)} text blocks from {pdf_path.name}\")\n",
    "    return blocks\n"
   ]
  },
  {
   "cell_type": "code",
   "execution_count": null,
   "id": "ea5d1938",
   "metadata": {},
   "outputs": [
    {
     "name": "stderr",
     "output_type": "stream",
     "text": [
      "Using CPU. Note: This module is much faster with a GPU.\n"
     ]
    }
   ],
   "source": [
    "from config import LANGUAGES\n",
    "reader = easyocr.Reader(LANGUAGES, gpu=False)\n",
    "\n",
    "def extract_text_ocr(pdf_path: Path):\n",
    "    ocr_blocks = []\n",
    "    images = convert_from_path(pdf_path)\n",
    "    \n",
    "    for page_num, img in enumerate(images, start=1):\n",
    "        img_np = np.array(img)\n",
    "        result = reader.readtext(img_np)\n",
    "\n",
    "        for (bbox, text, conf) in result:\n",
    "            ocr_blocks.append({\n",
    "                \"page\": page_num,\n",
    "                \"text\": clean_text(text.strip()),\n",
    "                \"bbox\": bbox,\n",
    "                \"confidence\": round(conf, 2)\n",
    "            })\n",
    "\n",
    "    return ocr_blocks\n"
   ]
  },
  {
   "cell_type": "code",
   "execution_count": 87,
   "id": "ffb51ccb",
   "metadata": {},
   "outputs": [
    {
     "name": "stdout",
     "output_type": "stream",
     "text": [
      "Extracted 141 text blocks from sample.pdf\n",
      "✅ Extracted 141 blocks from: sample.pdf\n",
      "📁 Saved to: C:\\Users\\Adi Awaskar\\Documents\\GitHub\\Adobe-Hackathon\\notebooks\\data\\processed\\pdf_text_blocks.json\n"
     ]
    }
   ],
   "source": [
    "# Try PyMuPDF first\n",
    "text_blocks = extract_text_blocks(PDF_PATH)\n",
    "\n",
    "# Fallback to OCR if no blocks were extracted\n",
    "if not text_blocks:\n",
    "    print(\"No blocks found with PyMuPDF. Falling back to OCR...\")\n",
    "    text_blocks = extract_text_ocr(PDF_PATH)\n",
    "\n",
    "# Save output\n",
    "with open(OUTPUT_PATH, \"w\", encoding=\"utf-8\") as f:\n",
    "    json.dump(text_blocks, f, indent=2, ensure_ascii=False)\n",
    "\n",
    "print(f\"✅ Extracted {len(text_blocks)} blocks from: {PDF_PATH.name}\")\n",
    "print(f\"📁 Saved to: {OUTPUT_PATH}\")\n"
   ]
  },
  {
   "cell_type": "code",
   "execution_count": 88,
   "id": "811071f3",
   "metadata": {},
   "outputs": [
    {
     "name": "stdout",
     "output_type": "stream",
     "text": [
      "[1] Page 1:\n",
      "Generated by  Superset  | 16 Jul 2025, 12:23 PM IST\n",
      "----------------------------------------\n",
      "[2] Page 1:\n",
      "Chevron Engineering\n",
      "----------------------------------------\n",
      "[3] Page 1:\n",
      "GET / PGET\n",
      "----------------------------------------\n",
      "[4] Page 1:\n",
      "Job Profile Details\n",
      "----------------------------------------\n",
      "[5] Page 1:\n",
      "Placement Cycle\n",
      "----------------------------------------\n",
      "[6] Page 1:\n",
      "VJTI Placements 2026 Batch\n",
      "----------------------------------------\n",
      "[7] Page 1:\n",
      "Job Location\n",
      "----------------------------------------\n",
      "[8] Page 1:\n",
      "Bengaluru\n",
      "----------------------------------------\n",
      "[9] Page 1:\n",
      "Date of Visit\n",
      "----------------------------------------\n",
      "[10] Page 1:\n",
      "Jul 28, 2025\n",
      "----------------------------------------\n"
     ]
    }
   ],
   "source": [
    "for i, block in enumerate(text_blocks[:10], 1):\n",
    "    print(f\"[{i}] Page {block['page']}:\\n{block['text']}\\n{'-'*40}\")\n"
   ]
  },
  {
   "cell_type": "code",
   "execution_count": null,
   "id": "6bbc5e5c",
   "metadata": {},
   "outputs": [],
   "source": []
  }
 ],
 "metadata": {
  "kernelspec": {
   "display_name": "adobe-hack",
   "language": "python",
   "name": "python3"
  },
  "language_info": {
   "codemirror_mode": {
    "name": "ipython",
    "version": 3
   },
   "file_extension": ".py",
   "mimetype": "text/x-python",
   "name": "python",
   "nbconvert_exporter": "python",
   "pygments_lexer": "ipython3",
   "version": "3.11.13"
  }
 },
 "nbformat": 4,
 "nbformat_minor": 5
}
