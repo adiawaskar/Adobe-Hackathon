{
 "cells": [
  {
   "cell_type": "code",
   "execution_count": 20,
   "id": "bad68578",
   "metadata": {},
   "outputs": [],
   "source": [
    "from pathlib import Path\n",
    "import json\n",
    "from langchain_community.llms import GPT4All\n",
    "from langchain_community.embeddings import HuggingFaceEmbeddings\n",
    "from langchain_community.vectorstores import Chroma\n",
    "from langchain.chains import RetrievalQA\n",
    "\n",
    "# Paths\n",
    "MODEL_PATH = Path(\"../models/phi-2.Q4_K_M.gguf\").resolve()\n",
    "CHROMA_DIR = Path(\"../vectorstore\").resolve()\n",
    "QA_OUTPUT_PATH = Path(\"../output/05_answers_phi2.json\")"
   ]
  },
  {
   "cell_type": "code",
   "execution_count": 21,
   "id": "c1fb8df4",
   "metadata": {},
   "outputs": [
    {
     "name": "stdout",
     "output_type": "stream",
     "text": [
      "Model path: C:\\Users\\Adi Awaskar\\Documents\\GitHub\\Adobe-Hackathon\\models\\phi-2.Q4_K_M.gguf\n",
      "✅ LLM loaded successfully\n"
     ]
    }
   ],
   "source": [
    "print(\"Model path:\", MODEL_PATH)\n",
    "assert MODEL_PATH.exists(), f\"\\u274c Model file not found: {MODEL_PATH}\"\n",
    "\n",
    "llm = GPT4All(model=str(MODEL_PATH), backend=\"llama\", verbose=True)\n",
    "print(\"\\u2705 LLM loaded successfully\")"
   ]
  },
  {
   "cell_type": "code",
   "execution_count": 22,
   "id": "82721a18",
   "metadata": {},
   "outputs": [
    {
     "name": "stdout",
     "output_type": "stream",
     "text": [
      "✅ Retriever ready\n"
     ]
    }
   ],
   "source": [
    "embedding_model = HuggingFaceEmbeddings(model_name=\"all-MiniLM-L6-v2\")\n",
    "\n",
    "vectorstore = Chroma(\n",
    "    persist_directory=str(CHROMA_DIR),\n",
    "    embedding_function=embedding_model\n",
    ")\n",
    "\n",
    "retriever = vectorstore.as_retriever()\n",
    "print(\"\\u2705 Retriever ready\")"
   ]
  },
  {
   "cell_type": "code",
   "execution_count": 23,
   "id": "775fb330",
   "metadata": {},
   "outputs": [
    {
     "name": "stdout",
     "output_type": "stream",
     "text": [
      "✅ RetrievalQA chain ready\n"
     ]
    }
   ],
   "source": [
    "qa_chain = RetrievalQA.from_chain_type(\n",
    "    llm=llm,\n",
    "    retriever=retriever,\n",
    "    chain_type=\"stuff\",\n",
    "    return_source_documents=True\n",
    ")\n",
    "\n",
    "print(\"\\u2705 RetrievalQA chain ready\")\n"
   ]
  },
  {
   "cell_type": "code",
   "execution_count": 24,
   "id": "13d1e4b5",
   "metadata": {},
   "outputs": [
    {
     "name": "stdout",
     "output_type": "stream",
     "text": [
      "➡️ A:  I'm sorry, as an AI language model, I don't have access to the specific details about the project. Can you please provide more information or context so that I can better answer your question?\n",
      "\n",
      "...\n",
      "\n"
     ]
    }
   ],
   "source": [
    "questions = [\n",
    "    \"What is the purpose of the PDF heading detection system?\",\n",
    "    \"Explain the architecture used in the proposed solution.\",\n",
    "    \"What are the unique features of the system?\",\n",
    "    \"How does the system handle multilingual documents?\",\n",
    "    \"What is the roadmap of the project?\"\n",
    "]\n",
    "\n",
    "answers = []\n",
    "\n",
    "for q in questions:\n",
    "    print(f\"\\n\\ud83d\\udd39 Q: {q}\")\n",
    "    result = qa_chain.invoke({\"query\": q})\n",
    "    print(f\"\\u27a1\\ufe0f A: {result['result'][:500]}...\\n\")\n",
    "    answers.append({\n",
    "        \"question\": q,\n",
    "        \"answer\": result[\"result\"]\n",
    "    })"
   ]
  },
  {
   "cell_type": "code",
   "execution_count": 25,
   "id": "c8a44146",
   "metadata": {},
   "outputs": [
    {
     "name": "stdout",
     "output_type": "stream",
     "text": [
      "✅ Answers saved to ..\\output\\05_answers_phi2.json\n"
     ]
    }
   ],
   "source": [
    "QA_OUTPUT_PATH.parent.mkdir(parents=True, exist_ok=True)\n",
    "\n",
    "with open(QA_OUTPUT_PATH, \"w\", encoding=\"utf-8\") as f:\n",
    "    json.dump(answers, f, indent=2, ensure_ascii=False)\n",
    "\n",
    "print(f\"\\u2705 Answers saved to {QA_OUTPUT_PATH}\")"
   ]
  },
  {
   "cell_type": "code",
   "execution_count": null,
   "id": "88f9261c",
   "metadata": {},
   "outputs": [],
   "source": []
  }
 ],
 "metadata": {
  "kernelspec": {
   "display_name": "adobe-hack",
   "language": "python",
   "name": "python3"
  },
  "language_info": {
   "codemirror_mode": {
    "name": "ipython",
    "version": 3
   },
   "file_extension": ".py",
   "mimetype": "text/x-python",
   "name": "python",
   "nbconvert_exporter": "python",
   "pygments_lexer": "ipython3",
   "version": "3.11.13"
  }
 },
 "nbformat": 4,
 "nbformat_minor": 5
}
