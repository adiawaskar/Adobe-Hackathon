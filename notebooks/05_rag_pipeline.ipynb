{
 "cells": [
  {
   "cell_type": "code",
   "execution_count": 39,
   "id": "bad68578",
   "metadata": {},
   "outputs": [
    {
     "name": "stdout",
     "output_type": "stream",
     "text": [
      "✅ Loaded embedding model\n"
     ]
    }
   ],
   "source": [
    "# Cell 1: Imports and Setup\n",
    "import os\n",
    "import json\n",
    "import pandas as pd\n",
    "from pathlib import Path\n",
    "from datetime import datetime\n",
    "from sentence_transformers import SentenceTransformer, util\n",
    "import numpy as np\n",
    "\n",
    "# Safe path handling for notebook vs script\n",
    "if \"__file__\" in globals():\n",
    "    PROJECT_ROOT = Path(__file__).resolve().parents[1]\n",
    "else:\n",
    "    PROJECT_ROOT = Path().resolve().parent\n",
    "\n",
    "OUTLINE_DIR = PROJECT_ROOT / \"output\"\n",
    "PDF_INPUT_DIR = PROJECT_ROOT / \"input\"\n",
    "FINAL_OUTPUT_PATH = OUTLINE_DIR / \"05_rag_output.json\"\n",
    "\n",
    "# Define embedding model\n",
    "model = SentenceTransformer(\"paraphrase-MiniLM-L6-v2\")\n",
    "print(\"✅ Loaded embedding model\")\n"
   ]
  },
  {
   "cell_type": "code",
   "execution_count": 40,
   "id": "c1fb8df4",
   "metadata": {},
   "outputs": [
    {
     "name": "stdout",
     "output_type": "stream",
     "text": [
      "📚 Loaded 339 heading blocks\n"
     ]
    }
   ],
   "source": [
    "# Cell 2: Load structured outlines (support optional filenames)\n",
    "def load_outlines(folder, file_names=None):\n",
    "    outlines = []\n",
    "\n",
    "    # If specific file names are passed, use those\n",
    "    if file_names:\n",
    "        paths = [folder / name for name in file_names]\n",
    "    else:\n",
    "        paths = list(folder.glob(\"*.json\"))\n",
    "\n",
    "    for path in paths:\n",
    "        with open(path, \"r\", encoding=\"utf-8\") as f:\n",
    "            data = json.load(f)\n",
    "            if isinstance(data, dict) and \"outline\" in data:\n",
    "                title = data.get(\"title\", \"Untitled\")\n",
    "                for block in data[\"outline\"]:\n",
    "                    outlines.append({\n",
    "                        \"document\": path.stem.replace(\"_headings\", \"\"),\n",
    "                        \"title\": title,\n",
    "                        **block\n",
    "                    })\n",
    "            else:\n",
    "                print(f\"⚠️ Skipped: {path.name} (unexpected format)\")\n",
    "\n",
    "    return pd.DataFrame(outlines)\n",
    "\n",
    "# Example usage\n",
    "# outline_df = load_outlines(OUTLINE_DIR)  # Load all\n",
    "outline_df = load_outlines(OUTLINE_DIR, \n",
    "                           file_names=[\"sample_text.json\",\n",
    "                                       \"sample.json\",\n",
    "                                    #    \"sample_ja.json\",\n",
    "                                       \"sample_git.json\",\n",
    "                                       \"sample5.json\"])  # Only specific ones\n",
    "print(f\"📚 Loaded {len(outline_df)} heading blocks\")\n"
   ]
  },
  {
   "cell_type": "code",
   "execution_count": 41,
   "id": "82721a18",
   "metadata": {},
   "outputs": [
    {
     "name": "stdout",
     "output_type": "stream",
     "text": [
      "🔪 Chunked into 9 sections\n"
     ]
    }
   ],
   "source": [
    "# Cell 3: Chunk Sections by Heading\n",
    "\n",
    "def chunk_sections(df):\n",
    "    chunks = []\n",
    "    current_chunk = None\n",
    "\n",
    "    for i, row in df.iterrows():\n",
    "        if row[\"level\"] == \"H1\":\n",
    "            if current_chunk:\n",
    "                chunks.append(current_chunk)\n",
    "            current_chunk = {\n",
    "                \"document\": row[\"document\"],\n",
    "                \"page\": row[\"page\"],\n",
    "                \"section_title\": row[\"text\"],\n",
    "                \"chunk_text\": row[\"text\"]\n",
    "            }\n",
    "        elif current_chunk:\n",
    "            current_chunk[\"chunk_text\"] += \" \" + row[\"text\"]\n",
    "\n",
    "    if current_chunk:\n",
    "        chunks.append(current_chunk)\n",
    "\n",
    "    return chunks\n",
    "\n",
    "chunks = chunk_sections(outline_df)\n",
    "print(f\"🔪 Chunked into {len(chunks)} sections\")\n"
   ]
  },
  {
   "cell_type": "code",
   "execution_count": 42,
   "id": "775fb330",
   "metadata": {},
   "outputs": [],
   "source": [
    "# Cell 4: Rank Chunks by Similarity to Task\n",
    "persona = \"PhD Researcher in Computational Biology\"\n",
    "job = \"Prepare a literature review on GNNs for drug discovery\"\n",
    "query = f\"{persona} needs to: {job}\"\n",
    "query_emb = model.encode(query, convert_to_tensor=True)\n",
    "\n",
    "for c in chunks:\n",
    "    c[\"embedding\"] = model.encode(c[\"chunk_text\"], convert_to_tensor=True)\n",
    "    c[\"similarity\"] = util.cos_sim(query_emb, c[\"embedding\"]).item()\n",
    "\n",
    "# Sort by relevance\n",
    "ranked_chunks = sorted(chunks, key=lambda x: x[\"similarity\"], reverse=True)\n",
    "\n"
   ]
  },
  {
   "cell_type": "code",
   "execution_count": 43,
   "id": "13d1e4b5",
   "metadata": {},
   "outputs": [
    {
     "name": "stdout",
     "output_type": "stream",
     "text": [
      "✅ RAG Output saved to: C:\\Users\\Adi Awaskar\\Documents\\GitHub\\Adobe-Hackathon\\output\\05_rag_output.json\n"
     ]
    }
   ],
   "source": [
    "# Cell 5: Assemble Final Output\n",
    "final = {\n",
    "    \"metadata\": {\n",
    "        \"documents\": list(set([c[\"document\"] for c in ranked_chunks])),\n",
    "        \"persona\": persona,\n",
    "        \"job_to_be_done\": job,\n",
    "        \"processed_at\": datetime.now().isoformat()\n",
    "    },\n",
    "    \"extracted_sections\": [\n",
    "        {\n",
    "            \"document\": c[\"document\"],\n",
    "            \"page\": c[\"page\"],\n",
    "            \"section_title\": c[\"section_title\"],\n",
    "            \"importance_rank\": i + 1\n",
    "        }\n",
    "        for i, c in enumerate(ranked_chunks[:5])\n",
    "    ],\n",
    "    \"subsection_analysis\": [\n",
    "        {\n",
    "            \"document\": c[\"document\"],\n",
    "            \"page\": c[\"page\"],\n",
    "            \"section_title\": c[\"section_title\"],\n",
    "            \"refined_text\": c[\"chunk_text\"]\n",
    "        }\n",
    "        for c in ranked_chunks[:5]\n",
    "    ]\n",
    "}\n",
    "\n",
    "with open(FINAL_OUTPUT_PATH, \"w\", encoding=\"utf-8\") as f:\n",
    "    json.dump(final, f, indent=2, ensure_ascii=False)\n",
    "\n",
    "print(f\"✅ RAG Output saved to: {FINAL_OUTPUT_PATH}\")"
   ]
  },
  {
   "cell_type": "code",
   "execution_count": 44,
   "id": "c8a44146",
   "metadata": {},
   "outputs": [
    {
     "name": "stdout",
     "output_type": "stream",
     "text": [
      "{\n",
      "  \"metadata\": {\n",
      "    \"documents\": [\n",
      "      \"sample_text\",\n",
      "      \"sample\",\n",
      "      \"sample5\",\n",
      "      \"sample_git\"\n",
      "    ],\n",
      "    \"persona\": \"PhD Researcher in Computational Biology\",\n",
      "    \"job_to_be_done\": \"Prepare a literature review on GNNs for drug discovery\",\n",
      "    \"processed_at\": \"2025-07-20T12:58:14.008157\"\n",
      "  },\n",
      "  \"extracted_sections\": [\n",
      "    {\n",
      "      \"document\": \"sample_text\",\n",
      "      \"page\": 1,\n",
      "      \"section_title\": \"Mid Internship Report\",\n",
      "      \"importance_rank\": 1\n",
      "    },\n",
      "    {\n",
      "      \"document\": \"sample_git\",\n",
      "      \"page\": 1,\n",
      "      \"section_title\": \"RFP: R RFP: R RFP: R RFP: Request f quest f quest f quest for Pr r Pr r Pr r Proposal oposal oposal oposal\",\n",
      "      \"importance_rank\": 2\n",
      "    },\n",
      "    {\n",
      "      \"document\": \"sample_git\",\n",
      "      \"page\": 1,\n",
      "      \"section_title\": \"To Present a Proposal for Developing the Business Plan for the Ontario Digital Library\",\n",
      "      \"importance_rank\": 3\n",
      "    },\n",
      "    {\n",
      "      \"document\": \"sample\",\n",
      "      \"page\": 1,\n",
      "      \"section_title\": \"Chevron Engineering\",\n",
      "      \"importance_rank\": 4\n",
      "    },\n",
      "    {\n",
      "      \"document\": \"sample_git\",\n",
      "      \"page\": 2,\n",
      "      \"section_title\": \"Ontario’s Digital Library\",\n",
      "      \"importance_rank\": 5\n",
      "    }\n",
      "  ],\n",
      "  \"subsection_analysis\": [\n",
      "    {\n",
      "      \"document\": \"sample_text\",\n",
      "      \"page\": 1,\n",
      "      \"section_title\": \"Mid Internship Report\",\n",
      "      \"refined_text\": \"Mid Internship Report Name of Student: Adi Awaskar Registration Number: 221080066 Domain / Topic: My internship domain lies in the area of Software Development Engineering ,\n"
     ]
    }
   ],
   "source": [
    "# Cell 6: Preview\n",
    "print(json.dumps(final, indent=2, ensure_ascii=False)[:1500])"
   ]
  },
  {
   "cell_type": "code",
   "execution_count": null,
   "id": "88f9261c",
   "metadata": {},
   "outputs": [],
   "source": []
  }
 ],
 "metadata": {
  "kernelspec": {
   "display_name": "adobe-hack",
   "language": "python",
   "name": "python3"
  },
  "language_info": {
   "codemirror_mode": {
    "name": "ipython",
    "version": 3
   },
   "file_extension": ".py",
   "mimetype": "text/x-python",
   "name": "python",
   "nbconvert_exporter": "python",
   "pygments_lexer": "ipython3",
   "version": "3.11.13"
  }
 },
 "nbformat": 4,
 "nbformat_minor": 5
}
