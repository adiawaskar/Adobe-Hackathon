{
 "cells": [
  {
   "cell_type": "code",
   "execution_count": null,
   "id": "fa6935d4",
   "metadata": {},
   "outputs": [
    {
     "name": "stdout",
     "output_type": "stream",
     "text": [
      "📁 Project Root: C:\\Users\\Adi Awaskar\\Documents\\GitHub\\Adobe-Hackathon\n",
      "📥 Merged Headings Path: C:\\Users\\Adi Awaskar\\Documents\\GitHub\\Adobe-Hackathon\\output\\03_merged_headings.json\n",
      "📤 Structured Outline Path: C:\\Users\\Adi Awaskar\\Documents\\GitHub\\Adobe-Hackathon\\output\\structured_outline.json\n"
     ]
    }
   ],
   "source": [
    "# Cell 1: Imports and Path Setup\n",
    "import json\n",
    "import pandas as pd\n",
    "from pathlib import Path\n",
    "import os\n",
    "\n",
    "# Resolve project root safely\n",
    "if \"__file__\" in globals():\n",
    "    PROJECT_ROOT = Path(__file__).resolve().parents[1]\n",
    "else:\n",
    "    PROJECT_ROOT = Path(os.getcwd()).resolve().parent\n",
    "\n",
    "# Define input/output paths\n",
    "# MERGED_PATH = PROJECT_ROOT / \"output\" / \"03_merged_headings.json\"\n",
    "# OUTPUT_PATH = PROJECT_ROOT / \"output\" / \"structured_outline.json\"\n",
    "\n",
    "# Define input/output paths\n",
    "MERGED_PATH = PROJECT_ROOT / \"output\" / \"03_merged_headings.json\"\n",
    "\n",
    "# Dynamically derive JSON name based on input PDF name stored temporarily\n",
    "pdf_name = os.environ.get(\"PDF_NAME\", \"structured_outline\")\n",
    "pdf_stem = Path(pdf_name).stem\n",
    "OUTPUT_PATH = PROJECT_ROOT / \"output\" / f\"{pdf_stem}.json\"\n",
    "\n",
    "\n",
    "# Ensure output directory exists\n",
    "OUTPUT_PATH.parent.mkdir(parents=True, exist_ok=True)\n",
    "\n",
    "# Debug info (optional)\n",
    "print(\"📁 Project Root:\", PROJECT_ROOT)\n",
    "print(\"📥 Merged Headings Path:\", MERGED_PATH)\n",
    "print(\"📤 Structured Outline Path:\", OUTPUT_PATH)\n"
   ]
  },
  {
   "cell_type": "code",
   "execution_count": 43,
   "id": "d45be6fc",
   "metadata": {},
   "outputs": [
    {
     "name": "stdout",
     "output_type": "stream",
     "text": [
      "✅ Loaded 179 merged heading candidates\n"
     ]
    },
    {
     "data": {
      "text/html": [
       "<div>\n",
       "<style scoped>\n",
       "    .dataframe tbody tr th:only-of-type {\n",
       "        vertical-align: middle;\n",
       "    }\n",
       "\n",
       "    .dataframe tbody tr th {\n",
       "        vertical-align: top;\n",
       "    }\n",
       "\n",
       "    .dataframe thead th {\n",
       "        text-align: right;\n",
       "    }\n",
       "</style>\n",
       "<table border=\"1\" class=\"dataframe\">\n",
       "  <thead>\n",
       "    <tr style=\"text-align: right;\">\n",
       "      <th></th>\n",
       "      <th>page</th>\n",
       "      <th>text</th>\n",
       "      <th>font_size_avg</th>\n",
       "      <th>is_bold</th>\n",
       "      <th>is_all_caps</th>\n",
       "      <th>y_position_norm</th>\n",
       "      <th>word_count</th>\n",
       "      <th>char_count</th>\n",
       "      <th>starts_with_number</th>\n",
       "      <th>ends_with_colon</th>\n",
       "      <th>is_centered</th>\n",
       "      <th>is_heading</th>\n",
       "    </tr>\n",
       "  </thead>\n",
       "  <tbody>\n",
       "    <tr>\n",
       "      <th>0</th>\n",
       "      <td>1</td>\n",
       "      <td>Multilingual PDF Heading Detection: Architectu...</td>\n",
       "      <td>18.0</td>\n",
       "      <td>True</td>\n",
       "      <td>False</td>\n",
       "      <td>0.115</td>\n",
       "      <td>5</td>\n",
       "      <td>48</td>\n",
       "      <td>False</td>\n",
       "      <td>False</td>\n",
       "      <td>False</td>\n",
       "      <td>True</td>\n",
       "    </tr>\n",
       "    <tr>\n",
       "      <th>1</th>\n",
       "      <td>1</td>\n",
       "      <td>Automated   heading  detection  in  PDFs  is  ...</td>\n",
       "      <td>9.0</td>\n",
       "      <td>True</td>\n",
       "      <td>False</td>\n",
       "      <td>0.180</td>\n",
       "      <td>12</td>\n",
       "      <td>105</td>\n",
       "      <td>False</td>\n",
       "      <td>False</td>\n",
       "      <td>False</td>\n",
       "      <td>False</td>\n",
       "    </tr>\n",
       "  </tbody>\n",
       "</table>\n",
       "</div>"
      ],
      "text/plain": [
       "   page                                               text  font_size_avg  \\\n",
       "0     1  Multilingual PDF Heading Detection: Architectu...           18.0   \n",
       "1     1  Automated   heading  detection  in  PDFs  is  ...            9.0   \n",
       "\n",
       "   is_bold  is_all_caps  y_position_norm  word_count  char_count  \\\n",
       "0     True        False            0.115           5          48   \n",
       "1     True        False            0.180          12         105   \n",
       "\n",
       "   starts_with_number  ends_with_colon  is_centered  is_heading  \n",
       "0               False            False        False        True  \n",
       "1               False            False        False       False  "
      ]
     },
     "execution_count": 43,
     "metadata": {},
     "output_type": "execute_result"
    }
   ],
   "source": [
    "with open(MERGED_PATH, \"r\", encoding=\"utf-8\") as f:\n",
    "    merged = json.load(f)\n",
    "\n",
    "df = pd.DataFrame(merged)\n",
    "print(\"✅ Loaded\", len(df), \"merged heading candidates\")\n",
    "df.head(2)\n"
   ]
  },
  {
   "cell_type": "code",
   "execution_count": null,
   "id": "f58d70e0",
   "metadata": {},
   "outputs": [],
   "source": [
    "def is_title(text_block):\n",
    "    return (\n",
    "        text_block[\"page\"] == 1 and\n",
    "        text_block[\"font_size_avg\"] >= 20 and\n",
    "        text_block[\"word_count\"] <= 10\n",
    "    )\n",
    "\n",
    "def get_level(block):\n",
    "    size = block.get(\"font_size_avg\", 0)\n",
    "    if size >= 18:\n",
    "        return \"H1\"\n",
    "    elif size >= 14:\n",
    "        return \"H2\"\n",
    "    else:\n",
    "        return \"H3\"\n"
   ]
  },
  {
   "cell_type": "code",
   "execution_count": null,
   "id": "78d80a8b",
   "metadata": {},
   "outputs": [
    {
     "name": "stdout",
     "output_type": "stream",
     "text": [
      "📘 Detected Title: Untitled\n"
     ]
    }
   ],
   "source": [
    "def is_title(block):\n",
    "    return (\n",
    "        block.get(\"page\") == 1 and\n",
    "        block.get(\"font_size_avg\", 0) >= 18 and\n",
    "        block.get(\"level\") == \"H1\" and\n",
    "        block.get(\"word_count\", 0) <= 12 and\n",
    "        len(block.get(\"text\", \"\")) > 5\n",
    "    )\n",
    "\n"
   ]
  },
  {
   "cell_type": "code",
   "execution_count": null,
   "id": "535e5241",
   "metadata": {},
   "outputs": [
    {
     "name": "stdout",
     "output_type": "stream",
     "text": [
      "[1] H1 | Page 1: Multilingual PDF Heading Detection: Architecture and Solution\n",
      "[2] H3 | Page 1: Automated   heading  detection  in  PDFs  is  critical  for  document  understanding,  accessibility  and downstream tasks. A robust solution must identify section titles with high precision/recall (score focus\n",
      "[3] H3 | Page 1: ) while running efficiently in a containerized environment and handling multiple languages (e.g. Japanese).\n",
      "[4] H3 | Page 1: We propose a pipeline that ingests PDFs, extracts layout and text features, classifies heading lines, and\n",
      "[5] H3 | Page 1: outputs a structured outline. This modular architecture (parse  →  features  →  classify  →  output) follows industry best practices. For example, enterprise workflows separate “ingestion” and “retrieval” stages for\n"
     ]
    }
   ],
   "source": [
    "# In[45]:\n",
    "\n",
    "# Assign heading levels before identifying title\n",
    "for block in merged:\n",
    "    block[\"level\"] = get_level(block)\n",
    "\n",
    "title_block = next((b for b in merged if is_title(b)), None)\n",
    "title = title_block[\"text\"] if title_block else \"Untitled\"\n",
    "print(\"📘 Detected Title:\", title)\n"
   ]
  },
  {
   "cell_type": "code",
   "execution_count": 47,
   "id": "9a683845",
   "metadata": {},
   "outputs": [
    {
     "name": "stdout",
     "output_type": "stream",
     "text": [
      "✅ Structured JSON saved to:\n",
      "C:\\Users\\Adi Awaskar\\Documents\\GitHub\\Adobe-Hackathon\\output\\structured_outline.json\n"
     ]
    }
   ],
   "source": [
    "structured = {\n",
    "    \"title\": title,\n",
    "    \"outline\": [\n",
    "        {\n",
    "            \"level\": block[\"level\"],\n",
    "            \"text\": block[\"text\"],\n",
    "            \"page\": block[\"page\"]\n",
    "        }\n",
    "        for block in merged\n",
    "    ]\n",
    "}\n",
    "\n",
    "with open(OUTPUT_PATH, \"w\", encoding=\"utf-8\") as f:\n",
    "    json.dump(structured, f, indent=2, ensure_ascii=False)\n",
    "\n",
    "print(f\"✅ Structured JSON saved to:\\n{OUTPUT_PATH}\")\n"
   ]
  },
  {
   "cell_type": "code",
   "execution_count": 48,
   "id": "6e5be409",
   "metadata": {},
   "outputs": [
    {
     "name": "stdout",
     "output_type": "stream",
     "text": [
      "{\n",
      "  \"title\": \"Untitled\",\n",
      "  \"outline\": [\n",
      "    {\n",
      "      \"level\": \"H1\",\n",
      "      \"text\": \"Multilingual PDF Heading Detection: Architecture and Solution\",\n",
      "      \"page\": 1\n",
      "    },\n",
      "    {\n",
      "      \"level\": \"H3\",\n",
      "      \"text\": \"Automated   heading  detection  in  PDFs  is  critical  for  document  understanding,  accessibility  and downstream tasks. A robust solution must identify section titles with high precision/recall (score focus\",\n",
      "      \"page\": 1\n",
      "    },\n",
      "    {\n",
      "      \"level\": \"H3\",\n",
      "      \"text\": \") while running efficiently in a containerized environment and handling multiple languages (e.g. Japanese).\",\n",
      "      \"page\": 1\n",
      "    },\n",
      "    {\n",
      "      \"level\": \"H3\",\n",
      "      \"text\": \"We propose a pipeline that ingests PDFs, extracts layout and text features, classifies heading lines, and\",\n",
      "      \"page\": 1\n",
      "    },\n",
      "    {\n",
      "      \"level\": \"H3\",\n",
      "      \"text\": \"outputs a structured outline. This modular architecture (parse  →  features  →  classify  →  output) follows industry best practices. For example, enterprise workf\n"
     ]
    }
   ],
   "source": [
    "# Preview first 1000 characters (optional full print)\n",
    "print(json.dumps(structured, indent=2, ensure_ascii=False)[:1000])\n"
   ]
  }
 ],
 "metadata": {
  "kernelspec": {
   "display_name": "adobe-hack",
   "language": "python",
   "name": "python3"
  },
  "language_info": {
   "codemirror_mode": {
    "name": "ipython",
    "version": 3
   },
   "file_extension": ".py",
   "mimetype": "text/x-python",
   "name": "python",
   "nbconvert_exporter": "python",
   "pygments_lexer": "ipython3",
   "version": "3.11.13"
  }
 },
 "nbformat": 4,
 "nbformat_minor": 5
}
